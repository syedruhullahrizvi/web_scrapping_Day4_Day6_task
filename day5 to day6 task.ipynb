{
 "cells": [
  {
   "cell_type": "code",
   "execution_count": 6,
   "id": "50b421b2",
   "metadata": {},
   "outputs": [],
   "source": [
    "import os\n",
    "import requests\n",
    "import numpy as np\n",
    "import pandas as pd\n",
    "import matplotlib.pyplot as plt\n",
    "import bs4\n",
    "from bs4 import BeautifulSoup\n",
    "from googlesearch import search\n",
    "from google_images_download import google_images_download\n",
    "from urllib.parse import quote"
   ]
  },
  {
   "cell_type": "code",
   "execution_count": 7,
   "id": "b1dfdf7b",
   "metadata": {},
   "outputs": [
    {
     "name": "stdout",
     "output_type": "stream",
     "text": [
      "Enter the name of the person: Elon Mask\n",
      "0 images of Elon Mask downloaded successfully.\n"
     ]
    }
   ],
   "source": [
    "def download_images(name, limit=50):\n",
    "    # Create a directory to store the downloaded images\n",
    "    if not os.path.exists(name):\n",
    "        os.makedirs(name)\n",
    "    \n",
    "    # Encode the name for the URL\n",
    "    encoded_name = quote(name)\n",
    "    \n",
    "    # Generate the Google Images search URL\n",
    "    url = f\"https://www.google.com/search?q={encoded_name}&source=lnms&tbm=isch\"\n",
    "    \n",
    "    # Send a GET request to the Google Images URL\n",
    "    response = requests.get(url)\n",
    "    \n",
    "    # Parse the HTML content using BeautifulSoup\n",
    "    soup = BeautifulSoup(response.content, \"html.parser\")\n",
    "    \n",
    "    # Find all img tags with class 'rg_i'\n",
    "    images = soup.find_all(\"img\", class_=\"rg_i\")\n",
    "    \n",
    "    count = 0\n",
    "    \n",
    "    # Download the images\n",
    "    for image in images:\n",
    "        # Get the image source URL\n",
    "        image_url = image.get(\"data-src\")\n",
    "        \n",
    "        if image_url:\n",
    "            # Send a GET request to download the image\n",
    "            response = requests.get(image_url)\n",
    "            \n",
    "            # Save the image to the local directory\n",
    "            with open(f\"{name}/{count}.jpg\", \"wb\") as file:\n",
    "                file.write(response.content)\n",
    "            \n",
    "            count += 1\n",
    "            \n",
    "            if count == limit:\n",
    "                break\n",
    "    \n",
    "    print(f\"{count} images of {name} downloaded successfully.\")\n",
    "\n",
    "# Prompt the user to enter the name of the person\n",
    "person_name = input(\"Enter the name of the person: \")\n",
    "\n",
    "# Download the images\n",
    "download_images(person_name, limit=50)\n"
   ]
  },
  {
   "cell_type": "code",
   "execution_count": 9,
   "id": "2f6b4521",
   "metadata": {},
   "outputs": [
    {
     "name": "stdout",
     "output_type": "stream",
     "text": [
      "Enter the name of the person: salman khan\n",
      "\n",
      "Item no.: 1 --> Item name = salman khan\n",
      "Evaluating...\n",
      "Starting Download...\n",
      "\n",
      "\n",
      "Unfortunately all 50 could not be downloaded because some images were not downloadable. 0 is all we got for this search filter!\n",
      "\n",
      "Errors: 0\n",
      "\n",
      "0 images of salman khan downloaded successfully.\n"
     ]
    }
   ],
   "source": [
    "from google_images_download import google_images_download\n",
    "\n",
    "def download_images(name, limit=50):\n",
    "    response = google_images_download.googleimagesdownload()\n",
    "    arguments = {\"keywords\": name, \"limit\": limit, \"print_urls\": False}\n",
    "    paths = response.download(arguments)\n",
    "    \n",
    "    count = len(paths[0][name])\n",
    "    \n",
    "    print(f\"{count} images of {name} downloaded successfully.\")\n",
    "\n",
    "# Prompt the user to enter the name of the person\n",
    "person_name = input(\"Enter the name of the person: \")\n",
    "\n",
    "# Download the images\n",
    "download_images(person_name, limit=50)\n"
   ]
  },
  {
   "cell_type": "code",
   "execution_count": null,
   "id": "5d1b7243",
   "metadata": {},
   "outputs": [],
   "source": []
  }
 ],
 "metadata": {
  "kernelspec": {
   "display_name": "Python 3 (ipykernel)",
   "language": "python",
   "name": "python3"
  },
  "language_info": {
   "codemirror_mode": {
    "name": "ipython",
    "version": 3
   },
   "file_extension": ".py",
   "mimetype": "text/x-python",
   "name": "python",
   "nbconvert_exporter": "python",
   "pygments_lexer": "ipython3",
   "version": "3.9.13"
  }
 },
 "nbformat": 4,
 "nbformat_minor": 5
}
